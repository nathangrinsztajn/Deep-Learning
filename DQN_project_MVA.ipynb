{
  "nbformat": 4,
  "nbformat_minor": 0,
  "metadata": {
    "colab": {
      "name": "DQN_project_MVA.ipynb",
      "version": "0.3.2",
      "provenance": [],
      "toc_visible": true,
      "include_colab_link": true
    },
    "kernelspec": {
      "name": "python3",
      "display_name": "Python 3"
    },
    "accelerator": "GPU"
  },
  "cells": [
    {
      "cell_type": "markdown",
      "metadata": {
        "id": "view-in-github",
        "colab_type": "text"
      },
      "source": [
        "<a href=\"https://colab.research.google.com/github/nathangrinsztajn/Deep-Learning-H1/blob/master/DQN_project_MVA.ipynb\" target=\"_parent\"><img src=\"https://colab.research.google.com/assets/colab-badge.svg\" alt=\"Open In Colab\"/></a>"
      ]
    },
    {
      "metadata": {
        "id": "ft2uDGwTEt7L",
        "colab_type": "text"
      },
      "cell_type": "markdown",
      "source": [
        "**You may need to install [OpenCV](https://pypi.python.org/pypi/opencv-python) and [scikit-video](http://www.scikit-video.org/stable/).**"
      ]
    },
    {
      "metadata": {
        "scrolled": false,
        "id": "bDY3EdppEt7a",
        "colab_type": "code",
        "colab": {
          "base_uri": "https://localhost:8080/",
          "height": 34
        },
        "outputId": "b3e4c69f-1974-44fd-b43c-e382b4db9e39"
      },
      "cell_type": "code",
      "source": [
        "import keras\n",
        "import numpy as np\n",
        "import io\n",
        "import base64\n",
        "from IPython.display import HTML\n",
        "from IPython import display as ipythondisplay\n",
        "import cv2\n",
        "import json\n",
        "import glob\n",
        "\n",
        "import skvideo\n",
        "import skvideo.io\n",
        "\n",
        "import matplotlib\n",
        "import matplotlib.pyplot as plt\n",
        "%matplotlib inline\n",
        "\n",
        "from keras.models import Sequential,model_from_json, Model\n",
        "from keras.layers.core import Dense\n",
        "from keras.optimizers import sgd\n",
        "from keras.layers import Conv2D, MaxPooling2D, Activation, AveragePooling2D,Reshape,BatchNormalization, Input, Flatten"
      ],
      "execution_count": 2,
      "outputs": [
        {
          "output_type": "stream",
          "text": [
            "Using TensorFlow backend.\n"
          ],
          "name": "stderr"
        }
      ]
    },
    {
      "metadata": {
        "id": "BQYxBA4XFAU5",
        "colab_type": "code",
        "outputId": "0f9229ff-c9fa-457d-980d-cfc92355bf00",
        "colab": {
          "base_uri": "https://localhost:8080/",
          "height": 190
        }
      },
      "cell_type": "code",
      "source": [
        "!sudo pip install scikit-video"
      ],
      "execution_count": 1,
      "outputs": [
        {
          "output_type": "stream",
          "text": [
            "Collecting scikit-video\n",
            "\u001b[?25l  Downloading https://files.pythonhosted.org/packages/b1/a6/c69cad508139a342810ae46e946ebb3256aa6e42f690d901bb68f50582e3/scikit_video-1.1.11-py2.py3-none-any.whl (2.3MB)\n",
            "\u001b[K    100% |████████████████████████████████| 2.3MB 13.7MB/s \n",
            "\u001b[?25hRequirement already satisfied: numpy in /usr/local/lib/python3.6/dist-packages (from scikit-video) (1.14.6)\n",
            "Requirement already satisfied: scipy in /usr/local/lib/python3.6/dist-packages (from scikit-video) (1.1.0)\n",
            "Requirement already satisfied: pillow in /usr/local/lib/python3.6/dist-packages (from scikit-video) (4.0.0)\n",
            "Requirement already satisfied: olefile in /usr/local/lib/python3.6/dist-packages (from pillow->scikit-video) (0.46)\n",
            "Installing collected packages: scikit-video\n",
            "Successfully installed scikit-video-1.1.11\n"
          ],
          "name": "stdout"
        }
      ]
    },
    {
      "metadata": {
        "id": "jxWCtXDVEt7-",
        "colab_type": "text"
      },
      "cell_type": "markdown",
      "source": [
        "# MiniProject #3: Deep Reinforcement Learning"
      ]
    },
    {
      "metadata": {
        "id": "GY5VKHocEt8E",
        "colab_type": "text"
      },
      "cell_type": "markdown",
      "source": [
        "__Notations__: $E_p$ is the expectation under probability $p$. Please justify each of your answer and widely comment your code."
      ]
    },
    {
      "metadata": {
        "id": "aLWc0QuEEt8L",
        "colab_type": "text"
      },
      "cell_type": "markdown",
      "source": [
        "# Context"
      ]
    },
    {
      "metadata": {
        "id": "LU_VWE-8Et8P",
        "colab_type": "text"
      },
      "cell_type": "markdown",
      "source": [
        "In a reinforcement learning algorithm, we modelize each step $t$ as an action $a_t$ obtained from a state $s_t$, i.e. $\\{(a_{t},s_{t})_{t\\leq T}\\}$ having the Markov property. We consider a discount factor $\\gamma \\in [0,1]$ that ensures convergence. The goal is to find among all the policies $\\pi$, one that maximizes the expected reward:\n",
        "\n",
        "\\begin{equation*}\n",
        "R(\\pi)=\\sum_{t\\leq T}E_{p^{\\pi}}[\\gamma^t r(s_{t},a_{t})] \\> ,\n",
        "\\end{equation*}\n",
        "\n",
        "where: \n",
        "\\begin{equation*}p^{\\pi}(a_{0},a_{1},s_{1},...,a_{T},s_{T})=p(a_{0})\\prod_{t=1}^{T}\\pi(a_{t}|s_{t})p(s_{t+1}|s_{t},a_{t}) \\> .\n",
        "\\end{equation*}\n",
        "\n",
        "We note the $Q$-function:\n",
        "\n",
        "\\begin{equation*}Q^\\pi(s,a)=E_{p^{\\pi}}[\\sum_{t\\leq T}\\gamma^{t}r(s_{t},a_{t})|s_{0}=s,a_{0}=a] \\> .\n",
        "\\end{equation*}\n",
        "\n",
        "Thus, the optimal Q function is:\n",
        "\\begin{equation*}\n",
        "Q^*(s,a)=\\max_{\\pi}Q^\\pi(s,a) \\> .\n",
        "\\end{equation*}\n",
        "\n",
        "In this project, we will apply the deep reinforcement learning techniques to a simple game: an agent will have to learn from scratch a policy that will permit it maximizing a reward."
      ]
    },
    {
      "metadata": {
        "id": "-5wYhBgIEt8c",
        "colab_type": "text"
      },
      "cell_type": "markdown",
      "source": [
        "## The environment, the agent and the game"
      ]
    },
    {
      "metadata": {
        "id": "2qGvcn4rEt8j",
        "colab_type": "text"
      },
      "cell_type": "markdown",
      "source": [
        "### The environment"
      ]
    },
    {
      "metadata": {
        "id": "7VWLrTbQEt8q",
        "colab_type": "text"
      },
      "cell_type": "markdown",
      "source": [
        "```Environment``` is an abstract class that represents the states, rewards, and actions to obtain the new state."
      ]
    },
    {
      "metadata": {
        "scrolled": false,
        "id": "XTWqixpNEt8z",
        "colab_type": "code",
        "colab": {}
      },
      "cell_type": "code",
      "source": [
        "class Environment(object):\n",
        "    def __init__(self):\n",
        "        pass\n",
        "\n",
        "    def act(self, act):\n",
        "        \"\"\"\n",
        "        One can act on the environment and obtain its reaction:\n",
        "        - the new state\n",
        "        - the reward of the new state\n",
        "        - should we continue the game?\n",
        "\n",
        "        :return: state, reward, game_over\n",
        "        \"\"\"\n",
        "        pass\n",
        "\n",
        "\n",
        "    def reset(self):\n",
        "        \"\"\"\n",
        "        Reinitialize the environment to a random state and returns\n",
        "        the original state\n",
        "\n",
        "        :return: state\n",
        "        \"\"\"\n",
        "        pass\n",
        "    \n",
        "    def draw(self):\n",
        "        \"\"\"\n",
        "        Visualize in the console or graphically the current state\n",
        "        \"\"\"\n",
        "        pass"
      ],
      "execution_count": 0,
      "outputs": []
    },
    {
      "metadata": {
        "id": "dUZXuUO0Et9R",
        "colab_type": "text"
      },
      "cell_type": "markdown",
      "source": [
        "The method ```act``` allows to act on the environment at a given state $s_t$ (stored internally), via action $a_t$. The method will return the new state $s_{t+1}$, the reward $r(s_{t},a_{t})$ and determines if $t\\leq T$ (*game_over*).\n",
        "\n",
        "The method ```reset``` simply reinitializes the environment to a random state $s_0$.\n",
        "\n",
        "The method ```draw``` displays the current state $s_t$ (this is useful to check the behavior of the Agent).\n",
        "\n",
        "We modelize $s_t$ as a tensor, while $a_t$ is an integer."
      ]
    },
    {
      "metadata": {
        "id": "jiOLq5e_Et9W",
        "colab_type": "text"
      },
      "cell_type": "markdown",
      "source": [
        "### The Agent"
      ]
    },
    {
      "metadata": {
        "id": "JDPPpxdVEt9c",
        "colab_type": "text"
      },
      "cell_type": "markdown",
      "source": [
        "The goal of the ```Agent``` is to interact with the ```Environment``` by proposing actions $a_t$ obtained from a given state $s_t$ to attempt to maximize its __reward__ $r(s_t,a_t)$. We propose the following abstract class:"
      ]
    },
    {
      "metadata": {
        "scrolled": false,
        "id": "7xMZuS9bEt9i",
        "colab_type": "code",
        "colab": {}
      },
      "cell_type": "code",
      "source": [
        "class Agent(object):\n",
        "    def __init__(self, epsilon=0.1, n_action=4):\n",
        "        self.epsilon = epsilon\n",
        "        self.n_action = n_action\n",
        "    \n",
        "    def set_epsilon(self,e):\n",
        "        self.epsilon = e\n",
        "\n",
        "    def act(self,s,train=True):\n",
        "        \"\"\" This function should return the next action to do:\n",
        "        an integer between 0 and 4 (not included) with a random exploration of epsilon\"\"\"\n",
        "        if train:\n",
        "            if np.random.rand() <= self.epsilon:\n",
        "                a = np.random.randint(0, self.n_action, size=1)[0]\n",
        "            else:\n",
        "                a = self.learned_act(s)\n",
        "        else: # in some cases, this can improve the performance.. remove it if poor performances\n",
        "            a = self.learned_act(s)\n",
        "\n",
        "        return a\n",
        "\n",
        "    def learned_act(self,s):\n",
        "        \"\"\" Act via the policy of the agent, from a given state s\n",
        "        it proposes an action a\"\"\"\n",
        "        pass\n",
        "\n",
        "    def reinforce(self, s, n_s, a, r, game_over_):\n",
        "        \"\"\" This function is the core of the learning algorithm. \n",
        "        It takes as an input the current state s_, the next state n_s_\n",
        "        the action a_ used to move from s_ to n_s_ and the reward r_.\n",
        "        \n",
        "        Its goal is to learn a policy.\n",
        "        \"\"\"\n",
        "        pass\n",
        "\n",
        "    def save(self):\n",
        "        \"\"\" This function returns basic stats if applicable: the\n",
        "        loss and/or the model\"\"\"\n",
        "        pass\n",
        "\n",
        "    def load(self):\n",
        "        \"\"\" This function allows to restore a model\"\"\"\n",
        "        pass"
      ],
      "execution_count": 0,
      "outputs": []
    },
    {
      "metadata": {
        "id": "tdtM_hOsEt-E",
        "colab_type": "text"
      },
      "cell_type": "markdown",
      "source": [
        "***\n",
        "__Question 1__:\n",
        "Explain the function act. Why is ```epsilon``` essential?"
      ]
    },
    {
      "metadata": {
        "id": "Jfed0HueEt-I",
        "colab_type": "text"
      },
      "cell_type": "markdown",
      "source": [
        "> The function act depicts the agent's behaviour. With probability equal to $\\epsilon$, it will choose an action at random, otherwise it will follow a given strategy. Therefore, $\\epsilon$ can be considered as the exploration parameter. With $\\epsilon = 0$, the agent will learn very learn little as it will more or less always act in the same way. If $\\epsilon$ is too high, the agent will understand quickly the best strategy to apply, but will act as random so will have a large regret.\n",
        "\n"
      ]
    },
    {
      "metadata": {
        "id": "uUIsM6bFEt-V",
        "colab_type": "text"
      },
      "cell_type": "markdown",
      "source": [
        "***\n",
        "### The Game"
      ]
    },
    {
      "metadata": {
        "id": "F5E8QGIGEt-c",
        "colab_type": "text"
      },
      "cell_type": "markdown",
      "source": [
        "The ```Agent``` and the ```Environment``` work in an interlaced way as in the following (take some time to understand this code as it is the core of the project)\n",
        "\n",
        "```python\n",
        "\n",
        "epoch = 300\n",
        "env = Environment()\n",
        "agent = Agent()\n",
        "\n",
        "\n",
        "# Number of won games\n",
        "score = 0\n",
        "loss = 0\n",
        "\n",
        "\n",
        "for e in range(epoch):\n",
        "    # At each epoch, we restart to a fresh game and get the initial state\n",
        "    state = env.reset()\n",
        "    # This assumes that the games will end\n",
        "    game_over = False\n",
        "\n",
        "    win = 0\n",
        "    lose = 0\n",
        "    \n",
        "    while not game_over:\n",
        "        # The agent performs an action\n",
        "        action = agent.act(state)\n",
        "\n",
        "        # Apply an action to the environment, get the next state, the reward\n",
        "        # and if the games end\n",
        "        prev_state = state\n",
        "        state, reward, game_over = env.act(action)\n",
        "\n",
        "        # Update the counters\n",
        "        if reward > 0:\n",
        "            win = win + reward\n",
        "        if reward < 0:\n",
        "            lose = lose -reward\n",
        "\n",
        "        # Apply the reinforcement strategy\n",
        "        loss = agent.reinforce(prev_state, state,  action, reward, game_over)\n",
        "\n",
        "    # Save as a mp4\n",
        "    if e % 10 == 0:\n",
        "        env.draw(e)\n",
        "\n",
        "    # Update stats\n",
        "    score += win-lose\n",
        "\n",
        "    print(\"Epoch {:03d}/{:03d} | Loss {:.4f} | Win/lose count {}/{} ({})\"\n",
        "          .format(e, epoch, loss, win, lose, win-lose))\n",
        "    agent.save()\n",
        "```"
      ]
    },
    {
      "metadata": {
        "id": "vCG6U1WZEt-k",
        "colab_type": "text"
      },
      "cell_type": "markdown",
      "source": [
        "# The game, *eat cheese*"
      ]
    },
    {
      "metadata": {
        "id": "mwQRtIipEt-s",
        "colab_type": "text"
      },
      "cell_type": "markdown",
      "source": [
        "A rat runs on an island and tries to eat as much as possible. The island is subdivided into $N\\times N$ cells, in which there are cheese (+0.5) and poisonous cells (-1). The rat has a visibility of 2 cells (thus it can see $5^2$ cells). The rat is given a time $T$ to accumulate as much food as possible. It can perform 4 actions: going up, down, left, right. \n",
        "\n",
        "The goal is to code an agent to solve this task that will learn by trial and error. We propose the following environment:"
      ]
    },
    {
      "metadata": {
        "scrolled": false,
        "id": "6j8_XIuTEt-2",
        "colab_type": "code",
        "colab": {}
      },
      "cell_type": "code",
      "source": [
        "class Environment(object):\n",
        "    def __init__(self, grid_size=10, max_time=500, temperature=0.1):\n",
        "        grid_size = grid_size+4\n",
        "        self.grid_size = grid_size\n",
        "        self.max_time = max_time\n",
        "        self.temperature = temperature\n",
        "\n",
        "        #board on which one plays\n",
        "        self.board = np.zeros((grid_size,grid_size))\n",
        "        self.position = np.zeros((grid_size,grid_size))\n",
        "\n",
        "        # coordinate of the rat\n",
        "        self.x = 0\n",
        "        self.y = 1\n",
        "\n",
        "        # self time\n",
        "        self.t = 0\n",
        "\n",
        "        self.scale=16\n",
        "\n",
        "        self.to_draw = np.zeros((max_time+2, grid_size*self.scale, grid_size*self.scale, 3))\n",
        "\n",
        "\n",
        "    def draw(self,e):\n",
        "        skvideo.io.vwrite(str(e) + '.mp4', self.to_draw)\n",
        "\n",
        "    def get_frame(self,t):\n",
        "        b = np.zeros((self.grid_size,self.grid_size,3))+128\n",
        "        b[self.board>0,0] = 256\n",
        "        b[self.board < 0, 2] = 256\n",
        "        b[self.x,self.y,:]=256\n",
        "        b[-2:,:,:]=0\n",
        "        b[:,-2:,:]=0\n",
        "        b[:2,:,:]=0\n",
        "        b[:,:2,:]=0\n",
        "        \n",
        "        b =  cv2.resize(b, None, fx=self.scale, fy=self.scale, interpolation=cv2.INTER_NEAREST)\n",
        "\n",
        "        self.to_draw[t,:,:,:]=b\n",
        "\n",
        "\n",
        "    def act(self, action):\n",
        "        \"\"\"This function returns the new state, reward and decides if the\n",
        "        game ends.\"\"\"\n",
        "\n",
        "        self.get_frame(int(self.t))\n",
        "\n",
        "        self.position = np.zeros((self.grid_size, self.grid_size))\n",
        "\n",
        "        self.position[0:2,:]= -1\n",
        "        self.position[:,0:2] = -1\n",
        "        self.position[-2:, :] = -1\n",
        "        self.position[-2:, :] = -1\n",
        "\n",
        "        self.position[self.x, self.y] = 1\n",
        "        if action == 0:\n",
        "            if self.x == self.grid_size-3:\n",
        "                self.x = self.x-1\n",
        "            else:\n",
        "                self.x = self.x + 1\n",
        "        elif action == 1:\n",
        "            if self.x == 2:\n",
        "                self.x = self.x+1\n",
        "            else:\n",
        "                self.x = self.x-1\n",
        "        elif action == 2:\n",
        "            if self.y == self.grid_size - 3:\n",
        "                self.y = self.y - 1\n",
        "            else:\n",
        "                self.y = self.y + 1\n",
        "        elif action == 3:\n",
        "            if self.y == 2:\n",
        "                self.y = self.y + 1\n",
        "            else:\n",
        "                self.y = self.y - 1\n",
        "        else:\n",
        "            RuntimeError('Error: action not recognized')\n",
        "\n",
        "        self.t = self.t + 1\n",
        "        reward = self.board[self.x, self.y]\n",
        "        self.board[self.x, self.y] = 0\n",
        "        game_over = self.t > self.max_time\n",
        "        state = np.concatenate((self.board.reshape(self.grid_size, self.grid_size,1),\n",
        "                        self.position.reshape(self.grid_size, self.grid_size,1)),axis=2)\n",
        "        state = state[self.x-2:self.x+3,self.y-2:self.y+3,:]\n",
        "\n",
        "        return state, reward, game_over\n",
        "\n",
        "    def reset(self):\n",
        "        \"\"\"This function resets the game and returns the initial state\"\"\"\n",
        "\n",
        "        self.x = np.random.randint(3, self.grid_size-3, size=1)[0]\n",
        "        self.y = np.random.randint(3, self.grid_size-3, size=1)[0]\n",
        "\n",
        "\n",
        "        bonus = 0.5*np.random.binomial(1,self.temperature,size=self.grid_size**2)\n",
        "        bonus = bonus.reshape(self.grid_size,self.grid_size)\n",
        "\n",
        "        malus = -1.0*np.random.binomial(1,self.temperature,size=self.grid_size**2)\n",
        "        malus = malus.reshape(self.grid_size, self.grid_size)\n",
        "\n",
        "        self.to_draw = np.zeros((self.max_time+2, self.grid_size*self.scale, self.grid_size*self.scale, 3))\n",
        "\n",
        "\n",
        "        malus[bonus>0]=0\n",
        "\n",
        "        self.board = bonus + malus\n",
        "\n",
        "        self.position = np.zeros((self.grid_size, self.grid_size))\n",
        "        self.position[0:2,:]= -1\n",
        "        self.position[:,0:2] = -1\n",
        "        self.position[-2:, :] = -1\n",
        "        self.position[-2:, :] = -1\n",
        "        self.board[self.x,self.y] = 0\n",
        "        self.t = 0\n",
        "\n",
        "        state = np.concatenate((\n",
        "                               self.board.reshape(self.grid_size, self.grid_size,1),\n",
        "                        self.position.reshape(self.grid_size, self.grid_size,1)),axis=2)\n",
        "\n",
        "        state = state[self.x - 2:self.x + 3, self.y - 2:self.y + 3, :]\n",
        "        return state"
      ],
      "execution_count": 0,
      "outputs": []
    },
    {
      "metadata": {
        "id": "26Eud5Q9Et_T",
        "colab_type": "text"
      },
      "cell_type": "markdown",
      "source": [
        "The following elements are important because they correspond to the hyper parameters for this project:"
      ]
    },
    {
      "metadata": {
        "scrolled": false,
        "id": "ZTewIb46Et_h",
        "colab_type": "code",
        "colab": {}
      },
      "cell_type": "code",
      "source": [
        "# parameters\n",
        "size = 13\n",
        "T=200\n",
        "temperature=0.3\n",
        "epochs_train=10 # set small when debugging\n",
        "epochs_test=10 # set small when debugging\n",
        "\n",
        "# display videos\n",
        "def display_videos(name):\n",
        "    video = io.open(name, 'r+b').read()\n",
        "    encoded = base64.b64encode(video)\n",
        "    return '''<video alt=\"test\" controls>\n",
        "                <source src=\"data:video/mp4;base64,{0}\" type=\"video/mp4\" />\n",
        "             </video>'''.format(encoded.decode('ascii'))\n",
        "  \n",
        "def show_video(name):\n",
        "  video = io.open(name, 'r+b').read()\n",
        "  encoded = base64.b64encode(video)\n",
        "  ipythondisplay.display(HTML(data='''<video alt=\"test\" autoplay \n",
        "              loop controls style=\"height: 400px;\">\n",
        "              <source src=\"data:video/mp4;base64,{0}\" type=\"video/mp4\" />\n",
        "           </video>'''.format(encoded.decode('ascii'))))"
      ],
      "execution_count": 0,
      "outputs": []
    },
    {
      "metadata": {
        "id": "F9k0xb8pEt_r",
        "colab_type": "text"
      },
      "cell_type": "markdown",
      "source": [
        "__Question 2__ Explain the use of the arrays ```position``` and ```board```."
      ]
    },
    {
      "metadata": {
        "id": "ci37J_aREt_6",
        "colab_type": "text"
      },
      "cell_type": "markdown",
      "source": [
        "> The board is a grid square (by default $10\\times10$). Some of the cells contains a cheese (reward 0.5) and some contains poison (reward -1). The temperature parameter controls the number of reward in the grid. \n",
        "\n",
        "> The agent uses two coordinates to move on the two-dimensional grid : $x, y$. It can go right, left, up, down (and it bounces on edges).\n",
        "\n",
        "> The agent can see up to two cells. But it is more convenient to have a fixed-size state. The agent sees a sub-array of ```board``` of size $5\\times5$ but is should see less when it is on an edge or in a corner. That's why there is also an array ```position``` : the grid. The ```board``` is larger than the real grid by two rows on the top, two rows on the bottom, two columns on the left and two columns on the right, so that the agent has always in sight a $5\\times5$ square.The ```position``` encodes the grid boundary with -1 where the real grid ends.\n",
        "\n",
        "\n"
      ]
    },
    {
      "metadata": {
        "id": "RFC_-njKEuAE",
        "colab_type": "text"
      },
      "cell_type": "markdown",
      "source": [
        "## Random Agent"
      ]
    },
    {
      "metadata": {
        "id": "emAQDVIREuAL",
        "colab_type": "text"
      },
      "cell_type": "markdown",
      "source": [
        "***\n",
        "__Question 3__ Implement a random Agent (only ```learned_act``` needs to be implemented):"
      ]
    },
    {
      "metadata": {
        "scrolled": false,
        "id": "5qnXZ5f6EuAU",
        "colab_type": "code",
        "colab": {}
      },
      "cell_type": "code",
      "source": [
        "class RandomAgent(Agent):\n",
        "    def __init__(self):\n",
        "        super(RandomAgent, self).__init__()\n",
        "\n",
        "    def learned_act(self, s):\n",
        "        return(np.random.randint(4))"
      ],
      "execution_count": 0,
      "outputs": []
    },
    {
      "metadata": {
        "id": "13QvNWvlEuAv",
        "colab_type": "text"
      },
      "cell_type": "markdown",
      "source": [
        "***\n",
        "***\n",
        "__Question 4__ Visualize the game moves. You need to fill in the following function for the evaluation:"
      ]
    },
    {
      "metadata": {
        "scrolled": false,
        "id": "FUp9Hp_ZEuA5",
        "colab_type": "code",
        "colab": {}
      },
      "cell_type": "code",
      "source": [
        "def test(agent,env,epochs,prefix=''):\n",
        "    # Number of won games\n",
        "    score = 0\n",
        "        \n",
        "    for e in range(epochs):\n",
        "        s = env.reset()\n",
        "        win,lose = 0,0\n",
        "        game_over = False\n",
        "        while not game_over:\n",
        "            a = agent.learned_act(s)\n",
        "            s, r, game_over = env.act(a)\n",
        "            if r>=0:\n",
        "                win += r\n",
        "            else:\n",
        "                lose -= r\n",
        "        # Save as a mp4\n",
        "        env.draw(prefix+str(e))\n",
        "\n",
        "        # Update stats\n",
        "        score = score + win - lose\n",
        "\n",
        "        print(\"Win/lose count {}/{}. Average score ({})\"\n",
        "              .format(win, lose, score/(1+e)))\n",
        "    print('Final score: '+str(score/epochs))"
      ],
      "execution_count": 0,
      "outputs": []
    },
    {
      "metadata": {
        "scrolled": false,
        "id": "Uv1ZUUPqEuBI",
        "colab_type": "code",
        "outputId": "b21a741f-c41d-4c7b-ef2e-85ca6258a1d3",
        "colab": {
          "base_uri": "https://localhost:8080/",
          "height": 625
        }
      },
      "cell_type": "code",
      "source": [
        "# Initialize the game\n",
        "env = Environment(grid_size=size, max_time=T,temperature=temperature)\n",
        "\n",
        "# Initialize the agent!\n",
        "agent = RandomAgent()\n",
        "\n",
        "test(agent,env,epochs_test,prefix='random')\n",
        "HTML(show_video('random1.mp4'))"
      ],
      "execution_count": 88,
      "outputs": [
        {
          "output_type": "stream",
          "text": [
            "Win/lose count 5.5/10.0. Average score (-4.5)\n",
            "Win/lose count 9.0/11.0. Average score (-3.25)\n",
            "Win/lose count 10.5/12.0. Average score (-2.6666666666666665)\n",
            "Win/lose count 9.5/17.0. Average score (-3.875)\n",
            "Win/lose count 8.5/12.0. Average score (-3.8)\n",
            "Win/lose count 13.5/10.0. Average score (-2.5833333333333335)\n",
            "Win/lose count 15.5/13.0. Average score (-1.8571428571428572)\n",
            "Win/lose count 10.5/11.0. Average score (-1.6875)\n",
            "Win/lose count 10.0/18.0. Average score (-2.388888888888889)\n",
            "Win/lose count 8.5/24.0. Average score (-3.7)\n",
            "Final score: -3.7\n"
          ],
          "name": "stdout"
        },
        {
          "output_type": "display_data",
          "data": {
            "text/html": [
              "<video alt=\"test\" autoplay \n",
              "              loop controls style=\"height: 400px;\">\n",
              "              <source src=\"data:video/mp4;base64,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\" type=\"video/mp4\" />\n",
              "           </video>"
            ],
            "text/plain": [
              "<IPython.core.display.HTML object>"
            ]
          },
          "metadata": {
            "tags": []
          }
        },
        {
          "output_type": "execute_result",
          "data": {
            "text/plain": [
              "<IPython.core.display.HTML object>"
            ]
          },
          "metadata": {
            "tags": []
          },
          "execution_count": 88
        }
      ]
    },
    {
      "metadata": {
        "id": "kmyh3uoNEuB7",
        "colab_type": "text"
      },
      "cell_type": "markdown",
      "source": [
        "***\n",
        "## DQN"
      ]
    },
    {
      "metadata": {
        "id": "69uU2jEmEuCO",
        "colab_type": "text"
      },
      "cell_type": "markdown",
      "source": [
        "Let us assume here that $T=\\infty$.\n",
        "\n",
        "***\n",
        "__Question 5__ Let $\\pi$ be a policy, show that:\n",
        "\n",
        "\\begin{equation*}\n",
        "Q^{\\pi}(s,a)=E_{(s',a')\\sim p(.|s,a)}[r(s,a)+\\gamma Q^{\\pi}(s',a')]\n",
        "\\end{equation*}\n",
        "\n",
        "Then, show that for the optimal policy $\\pi^*$ (we assume its existence), the following holds: \n",
        "\n",
        "\\begin{equation*}\n",
        "Q^{*}(s,a)=E_{s'\\sim \\pi^*(.|s,a)}[r(s,a)+\\gamma\\max_{a'}Q^{*}(s',a')].\n",
        "\\end{equation*}\n",
        "Finally, deduce that a plausible objective is:\n",
        "\n",
        "\\begin{equation*}\n",
        "\\mathcal{L}(\\theta)=E_{s' \\sim \\pi^*(.|s,a)}\\Vert r+\\gamma\\max\\max_{a'}Q(s',a',\\theta)-Q(s,a,\\theta)\\Vert^{2}.\n",
        "\\end{equation*}\n",
        "\n",
        "\n"
      ]
    },
    {
      "metadata": {
        "id": "J6Fqj4fuEuCv",
        "colab_type": "text"
      },
      "cell_type": "markdown",
      "source": [
        "\n",
        "\n",
        "\\begin{equation*}\n",
        "\\begin{split}\n",
        "Q^{\\pi}(s,a)&=E_{p^{\\pi}}[\\sum_{t\\geq0}\\gamma^{t}r(s_{t},a_{t})|s_{0}=s,a_{0}=a]\\\\\n",
        "Q^{\\pi}(s,a)&=E_{p^{\\pi}}[r(s, a)+\\sum_{t\\geq1}\\gamma^{t}r(s_{t},a_{t})|s_{0}=s,a_{0}=a]\\\\\n",
        "Q^{\\pi}(s,a)&=E_{p^{\\pi}}[r(s, a)+\\gamma\\sum_{t\\geq0}\\gamma^{t}r(s_{t+1},a_{t+1})|s_{0}=s,a_{0}=a]\\\\\n",
        "Q^{\\pi}(s,a)&=E_{p^{\\pi}}\\left[r(s, a)+\\gamma E_{p^{\\pi}(s_1=s', a_1=a'|s_{0}=s,a_{0}=a)} [\\sum_{t\\geq0}\\gamma^{t}r(s_{t+1},a_{t+1})|s_{0}=s,a_{0}=a, s_1=s', a_1=a']\\right]\\\\\n",
        "Q^{\\pi}(s,a)&=E_{(s',a')\\sim p(.|s,a)}\\left[r(s, a)+\\gamma E_{p^{\\pi}}[\\sum_{t\\geq0}\\gamma^{t}r(s_{t+1},a_{t+1})|s_{0}=s,a_{0}=a, s_1=s', a_1=a']\\right]\\\\\n",
        "Q^{\\pi}(s,a)&=E_{(s',a')\\sim p(.|s,a)}[r(s,a)+\\gamma Q^{\\pi}(s',a')]\n",
        "\\end{split}\n",
        "\\end{equation*}\n",
        "\n",
        "We can then deduce the second property. We define the policy $\\pi^{**}$ by:\n",
        "\n",
        "\\begin{equation*}\n",
        "\\pi^{**}(s) = \\text{argmax}_a Q^{*}(s,a)\n",
        "\\end{equation*}\n",
        "\n",
        "\\begin{equation*}\n",
        "\\begin{split}\n",
        "Q^{*}(s,a)&=E_{(s',a')\\sim p(.|s,a)}[r(s,a)+\\gamma Q^{*}(s',a')]\\\\\n",
        "&\\leq E_{(s',a')\\sim p(.|s,a)}[r(s,a)+\\gamma\\max_{a'}Q^{*}(s',a')]\\\\\n",
        "&\\leq E_{s'\\sim \\pi^*(.|s,a)}[r(s,a)+\\gamma\\max_{a'}Q^{*}(s',a')]\\\\\n",
        "&\\leq Q^{\\pi^{**}}(s, a)\n",
        "\\end{split}\n",
        "\\end{equation*}\n",
        "\n",
        "Thus $Q^{*} = Q^{\\pi^{**}}$ since $Q^{*}$ is optimal, and then \n",
        "\n",
        "\\begin{equation*}\n",
        "Q^{*}(s,a)=E_{s'\\sim \\pi^*(.|s,a)}[r(s,a)+\\gamma\\max_{a'}Q^{*}(s',a')].\n",
        "\\end{equation*}\n",
        "\n",
        "A natural loss is to compare $Q(s,a,\\theta)$ with $ E_{s'\\sim \\pi^*(.|s,a)}[r(s,a)+\\gamma\\max_{a'}Q(s',a', \\theta)]$. Therefore the loss defined as\n",
        "\n",
        "\\begin{equation*}\n",
        "\\begin{split}\n",
        "\\mathcal{L}(\\theta)&=E_{s' \\sim \\pi^*(.|s,a)}\\Vert r+\\gamma\\max_{a'}Q(s',a',\\theta)-Q(s,a,\\theta)\\Vert^{2}\\\\\n",
        "&=E_{s' \\sim \\pi^*(.|s,a)}\\left( r+\\gamma\\max_{a'}Q(s',a',\\theta)-Q(s,a,\\theta)\\right)^{2} + \n",
        "var\\left(r+\\gamma\\max_{a'}Q(s',a',\\theta)-Q(s,a,\\theta)\\right)\n",
        "\\end{split}\n",
        "\\end{equation*}\n",
        "\n",
        "is a plausible loss."
      ]
    },
    {
      "metadata": {
        "id": "DI_OnPC6EuDC",
        "colab_type": "text"
      },
      "cell_type": "markdown",
      "source": [
        "***\n",
        "The DQN-learning algorithm relies on these derivations to train the parameters $\\theta$ of a Deep Neural Network:\n",
        "\n",
        "1. At the state $s_t$, select the action $a_t$ with best reward using $Q_t$ and store the results;\n",
        "\n",
        "2. Obtain the new state $s_{t+1}$ from the environment $p$;\n",
        "\n",
        "3. Store $(s_t,a_t,s_{t+1})$;\n",
        "\n",
        "4. Obtain $Q_{t+1}$ by minimizing  $\\mathcal{L}$ from a recovered batch from the previously stored results.\n",
        "\n",
        "***\n",
        "__Question 6__ Implement the class ```Memory``` that stores moves (in a replay buffer) via ```remember``` and provides a ```random_access``` to these. Specify a maximum memory size to avoid side effects. You can for example use a ```list()``` and set by default ```max_memory=100```."
      ]
    },
    {
      "metadata": {
        "scrolled": false,
        "id": "MNvQ83JkEuDh",
        "colab_type": "code",
        "colab": {}
      },
      "cell_type": "code",
      "source": [
        "class Memory(object):\n",
        "    def __init__(self, max_memory=100):\n",
        "        self.max_memory = max_memory\n",
        "        self.memory = []\n",
        "\n",
        "    def remember(self, m):\n",
        "        self.memory.append(m)\n",
        "        self.memory = self.memory[-self.max_memory:]\n",
        "\n",
        "    def random_access(self):\n",
        "        return self.memory[np.random.randint(len(self.memory))]"
      ],
      "execution_count": 0,
      "outputs": []
    },
    {
      "metadata": {
        "id": "mOs298yQEuDu",
        "colab_type": "text"
      },
      "cell_type": "markdown",
      "source": [
        "***\n",
        "The pipeline we will use for training is given below:"
      ]
    },
    {
      "metadata": {
        "scrolled": false,
        "id": "Py6spdiwEuDw",
        "colab_type": "code",
        "colab": {}
      },
      "cell_type": "code",
      "source": [
        "def train(agent,env,epoch,prefix=''):\n",
        "    # Number of won games\n",
        "    score = 0\n",
        "    loss = 0\n",
        "\n",
        "    for e in range(epoch):\n",
        "        # At each epoch, we restart to a fresh game and get the initial state\n",
        "        state = env.reset()\n",
        "        # This assumes that the games will terminate\n",
        "        game_over = False\n",
        "\n",
        "        win = 0\n",
        "        lose = 0\n",
        "\n",
        "        while not game_over:\n",
        "            # The agent performs an action\n",
        "            action = agent.act(state)\n",
        "\n",
        "            # Apply an action to the environment, get the next state, the reward\n",
        "            # and if the games end\n",
        "            prev_state = state\n",
        "            state, reward, game_over = env.act(action)\n",
        "\n",
        "            # Update the counters\n",
        "            if reward > 0:\n",
        "                win = win + reward\n",
        "            if reward < 0:\n",
        "                lose = lose -reward\n",
        "\n",
        "            # Apply the reinforcement strategy\n",
        "            loss = agent.reinforce(prev_state, state,  action, reward, game_over)\n",
        "\n",
        "        # Save as a mp4\n",
        "        if e % 10 == 0:\n",
        "            env.draw(prefix+str(e))\n",
        "\n",
        "        # Update stats\n",
        "        score += win-lose\n",
        "\n",
        "        print(\"Epoch {:03d}/{:03d} | Loss {:.4f} | Win/lose count {}/{} ({})\"\n",
        "              .format(e, epoch, loss, win, lose, win-lose))\n",
        "        agent.save(name_weights=prefix+'model.h5',name_model=prefix+'model.json')"
      ],
      "execution_count": 0,
      "outputs": []
    },
    {
      "metadata": {
        "id": "oKo8KGgjEuEW",
        "colab_type": "text"
      },
      "cell_type": "markdown",
      "source": [
        "***\n",
        "__Question 7__ Implement the DQN training algorithm using a cascade of fully connected layers. You can use different learning rate, batch size or memory size parameters. In particular, the loss might oscillate while the player will start to win the games. You have to find a good criterium."
      ]
    },
    {
      "metadata": {
        "scrolled": false,
        "id": "HZR_4PfVEuEe",
        "colab_type": "code",
        "colab": {}
      },
      "cell_type": "code",
      "source": [
        "class DQN(Agent):\n",
        "    def __init__(self, grid_size,  epsilon = 0.1, memory_size=100, batch_size = 16,n_state=2):\n",
        "        super(DQN, self).__init__(epsilon = epsilon)\n",
        "\n",
        "        # Discount for Q learning\n",
        "        self.discount = 0.99\n",
        "        \n",
        "        self.grid_size = grid_size\n",
        "        \n",
        "        # number of state\n",
        "        self.n_state = n_state\n",
        "\n",
        "        # Memory\n",
        "        self.memory = Memory(memory_size)\n",
        "        \n",
        "        # Batch size when learning\n",
        "        self.batch_size = batch_size\n",
        "\n",
        "    def learned_act(self, s):\n",
        "        return np.argmax(self.model.predict(s.reshape(1,5,5,self.n_state))[0])\n",
        "\n",
        "    def reinforce(self, s_, n_s_, a_, r_, game_over_):\n",
        "        # Two steps: first memorize the states, second learn from the pool\n",
        "\n",
        "        self.memory.remember([s_, n_s_, a_, r_, game_over_])\n",
        "        \n",
        "        input_states = np.zeros((self.batch_size, 5,5,self.n_state))\n",
        "        target_q = np.zeros((self.batch_size, 4))\n",
        "        \n",
        "        for i in range(self.batch_size):\n",
        "            s_, n_s_, a_, r_, game_over_ = self.memory.random_access()\n",
        "            input_states[i] = s_\n",
        "            target_q[i] = self.model.predict(s_.reshape(1,5,5,self.n_state))[0]\n",
        "            if game_over_:\n",
        "                target_q[i, a_] = r_\n",
        "            else:\n",
        "                target_q[i, a_] = r_ + self.discount * np.max(self.model.predict(n_s_.reshape(1,5,5,self.n_state))[0])\n",
        "\n",
        "        # HINT: Clip the target to avoid exploiding gradients.. -- clipping is a bit tighter\n",
        "        target_q = np.clip(target_q, -3, 3)\n",
        "\n",
        "        l = self.model.train_on_batch(input_states, target_q)\n",
        "        return l\n",
        "\n",
        "    def save(self,name_weights='model.h5',name_model='model.json'):\n",
        "        self.model.save_weights(name_weights, overwrite=True)\n",
        "        with open(name_model, \"w\") as outfile:\n",
        "            json.dump(self.model.to_json(), outfile)\n",
        "            \n",
        "    def load(self,name_weights='model.h5',name_model='model.json'):\n",
        "        with open(name_model, \"r\") as jfile:\n",
        "            model = model_from_json(json.load(jfile))\n",
        "        model.load_weights(name_weights)\n",
        "        model.compile(\"adam\", \"mse\")\n",
        "        self.model = model\n",
        "\n",
        "            \n",
        "class DQN_FC(DQN):\n",
        "    def __init__(self, *args, lr=0.1,**kwargs):\n",
        "        super(DQN_FC, self).__init__( *args,**kwargs)\n",
        "        \n",
        "        # NN Model\n",
        "        \n",
        "        input_layer = Input(shape=(5,5,self.n_state))\n",
        "        flatten = Flatten()(input_layer)\n",
        "        dense1 = Dense(64, activation=\"relu\")(flatten)\n",
        "        dense2 = Dense(64, activation=\"relu\")(dense1)\n",
        "        output = Dense(4, activation=\"linear\")(dense2)\n",
        "        model = Model(input_layer, output)\n",
        "        \n",
        "        model.compile('adam', \"mse\")\n",
        "        model.summary()\n",
        "        self.model = model"
      ],
      "execution_count": 0,
      "outputs": []
    },
    {
      "metadata": {
        "scrolled": true,
        "id": "r11dvL50EuE0",
        "colab_type": "code",
        "outputId": "70f1c04f-057e-43ff-e2d1-907e8fe067b3",
        "colab": {
          "base_uri": "https://localhost:8080/",
          "height": 2006
        }
      },
      "cell_type": "code",
      "source": [
        "epochs_train = 100\n",
        "\n",
        "env = Environment(grid_size=size, max_time=T, temperature=0.3)\n",
        "agent = DQN_FC(size, lr=.1, epsilon = 0.1, memory_size=2000, batch_size = 64)\n",
        "train(agent, env, epochs_train, prefix='fc_train')"
      ],
      "execution_count": 19,
      "outputs": [
        {
          "output_type": "stream",
          "text": [
            "_________________________________________________________________\n",
            "Layer (type)                 Output Shape              Param #   \n",
            "=================================================================\n",
            "input_3 (InputLayer)         (None, 5, 5, 2)           0         \n",
            "_________________________________________________________________\n",
            "flatten_3 (Flatten)          (None, 50)                0         \n",
            "_________________________________________________________________\n",
            "dense_7 (Dense)              (None, 64)                3264      \n",
            "_________________________________________________________________\n",
            "dense_8 (Dense)              (None, 32)                2080      \n",
            "_________________________________________________________________\n",
            "dense_9 (Dense)              (None, 4)                 132       \n",
            "=================================================================\n",
            "Total params: 5,476\n",
            "Trainable params: 5,476\n",
            "Non-trainable params: 0\n",
            "_________________________________________________________________\n",
            "Epoch 000/100 | Loss 0.0022 | Win/lose count 6.0/5.0 (1.0)\n",
            "Epoch 001/100 | Loss 0.0020 | Win/lose count 9.0/8.0 (1.0)\n",
            "Epoch 002/100 | Loss 0.0015 | Win/lose count 7.0/6.0 (1.0)\n",
            "Epoch 003/100 | Loss 0.0019 | Win/lose count 4.0/2.0 (2.0)\n",
            "Epoch 004/100 | Loss 0.0015 | Win/lose count 8.0/8.0 (0.0)\n",
            "Epoch 005/100 | Loss 0.0020 | Win/lose count 13.0/8.0 (5.0)\n",
            "Epoch 006/100 | Loss 0.0056 | Win/lose count 6.0/3.0 (3.0)\n",
            "Epoch 007/100 | Loss 0.0170 | Win/lose count 6.0/2.0 (4.0)\n",
            "Epoch 008/100 | Loss 0.0209 | Win/lose count 9.0/3.0 (6.0)\n",
            "Epoch 009/100 | Loss 0.0022 | Win/lose count 13.0/2.0 (11.0)\n",
            "Epoch 010/100 | Loss 0.0023 | Win/lose count 4.5/2.0 (2.5)\n",
            "Epoch 011/100 | Loss 0.0184 | Win/lose count 5.0/4.0 (1.0)\n",
            "Epoch 012/100 | Loss 0.0015 | Win/lose count 7.0/6.0 (1.0)\n",
            "Epoch 013/100 | Loss 0.0022 | Win/lose count 6.5/1.0 (5.5)\n",
            "Epoch 014/100 | Loss 0.0023 | Win/lose count 10.0/0 (10.0)\n",
            "Epoch 015/100 | Loss 0.0055 | Win/lose count 7.0/4.0 (3.0)\n",
            "Epoch 016/100 | Loss 0.0026 | Win/lose count 7.5/1.0 (6.5)\n",
            "Epoch 017/100 | Loss 0.0034 | Win/lose count 6.5/3.0 (3.5)\n",
            "Epoch 018/100 | Loss 0.0032 | Win/lose count 8.0/5.0 (3.0)\n",
            "Epoch 019/100 | Loss 0.0016 | Win/lose count 5.0/3.0 (2.0)\n",
            "Epoch 020/100 | Loss 0.0089 | Win/lose count 14.5/3.0 (11.5)\n",
            "Epoch 021/100 | Loss 0.0053 | Win/lose count 9.0/4.0 (5.0)\n",
            "Epoch 022/100 | Loss 0.0017 | Win/lose count 1.5/1.0 (0.5)\n",
            "Epoch 023/100 | Loss 0.0013 | Win/lose count 4.0/1.0 (3.0)\n",
            "Epoch 024/100 | Loss 0.0051 | Win/lose count 7.0/3.0 (4.0)\n",
            "Epoch 025/100 | Loss 0.0043 | Win/lose count 3.0/2.0 (1.0)\n",
            "Epoch 026/100 | Loss 0.0032 | Win/lose count 13.0/2.0 (11.0)\n",
            "Epoch 027/100 | Loss 0.0305 | Win/lose count 11.5/1.0 (10.5)\n",
            "Epoch 028/100 | Loss 0.0289 | Win/lose count 9.0/2.0 (7.0)\n",
            "Epoch 029/100 | Loss 0.0018 | Win/lose count 10.0/1.0 (9.0)\n",
            "Epoch 030/100 | Loss 0.0020 | Win/lose count 7.0/3.0 (4.0)\n",
            "Epoch 031/100 | Loss 0.0206 | Win/lose count 9.5/4.0 (5.5)\n",
            "Epoch 032/100 | Loss 0.0203 | Win/lose count 2.5/3.0 (-0.5)\n",
            "Epoch 033/100 | Loss 0.0188 | Win/lose count 5.0/1.0 (4.0)\n",
            "Epoch 034/100 | Loss 0.0227 | Win/lose count 16.5/4.0 (12.5)\n",
            "Epoch 035/100 | Loss 0.0020 | Win/lose count 6.5/3.0 (3.5)\n",
            "Epoch 036/100 | Loss 0.0019 | Win/lose count 6.5/4.0 (2.5)\n",
            "Epoch 037/100 | Loss 0.0230 | Win/lose count 8.0/3.0 (5.0)\n",
            "Epoch 038/100 | Loss 0.0342 | Win/lose count 11.5/3.0 (8.5)\n",
            "Epoch 039/100 | Loss 0.0028 | Win/lose count 8.0/2.0 (6.0)\n",
            "Epoch 040/100 | Loss 0.0017 | Win/lose count 9.5/1.0 (8.5)\n",
            "Epoch 041/100 | Loss 0.0016 | Win/lose count 6.0/1.0 (5.0)\n",
            "Epoch 042/100 | Loss 0.0241 | Win/lose count 10.0/4.0 (6.0)\n",
            "Epoch 043/100 | Loss 0.0195 | Win/lose count 9.0/4.0 (5.0)\n",
            "Epoch 044/100 | Loss 0.0012 | Win/lose count 6.5/5.0 (1.5)\n",
            "Epoch 045/100 | Loss 0.0061 | Win/lose count 2.0/2.0 (0.0)\n",
            "Epoch 046/100 | Loss 0.0013 | Win/lose count 6.0/0 (6.0)\n",
            "Epoch 047/100 | Loss 0.0157 | Win/lose count 5.0/0 (5.0)\n",
            "Epoch 048/100 | Loss 0.0280 | Win/lose count 7.5/1.0 (6.5)\n",
            "Epoch 049/100 | Loss 0.0014 | Win/lose count 4.5/1.0 (3.5)\n",
            "Epoch 050/100 | Loss 0.0021 | Win/lose count 10.0/3.0 (7.0)\n",
            "Epoch 051/100 | Loss 0.0032 | Win/lose count 8.5/4.0 (4.5)\n",
            "Epoch 052/100 | Loss 0.0027 | Win/lose count 5.5/9.0 (-3.5)\n",
            "Epoch 053/100 | Loss 0.0021 | Win/lose count 16.5/6.0 (10.5)\n",
            "Epoch 054/100 | Loss 0.0024 | Win/lose count 10.0/2.0 (8.0)\n",
            "Epoch 055/100 | Loss 0.0047 | Win/lose count 4.5/0 (4.5)\n",
            "Epoch 056/100 | Loss 0.0020 | Win/lose count 11.5/4.0 (7.5)\n",
            "Epoch 057/100 | Loss 0.0014 | Win/lose count 8.5/5.0 (3.5)\n",
            "Epoch 058/100 | Loss 0.0026 | Win/lose count 5.5/1.0 (4.5)\n",
            "Epoch 059/100 | Loss 0.0109 | Win/lose count 7.5/3.0 (4.5)\n",
            "Epoch 060/100 | Loss 0.0031 | Win/lose count 10.0/2.0 (8.0)\n",
            "Epoch 061/100 | Loss 0.0282 | Win/lose count 8.0/1.0 (7.0)\n",
            "Epoch 062/100 | Loss 0.0049 | Win/lose count 7.5/9.0 (-1.5)\n",
            "Epoch 063/100 | Loss 0.0021 | Win/lose count 15.5/1.0 (14.5)\n",
            "Epoch 064/100 | Loss 0.0231 | Win/lose count 13.0/7.0 (6.0)\n",
            "Epoch 065/100 | Loss 0.0028 | Win/lose count 14.0/2.0 (12.0)\n",
            "Epoch 066/100 | Loss 0.0020 | Win/lose count 8.5/5.0 (3.5)\n",
            "Epoch 067/100 | Loss 0.0023 | Win/lose count 8.0/2.0 (6.0)\n",
            "Epoch 068/100 | Loss 0.0021 | Win/lose count 10.0/5.0 (5.0)\n",
            "Epoch 069/100 | Loss 0.0032 | Win/lose count 9.0/4.0 (5.0)\n",
            "Epoch 070/100 | Loss 0.0015 | Win/lose count 8.5/4.0 (4.5)\n",
            "Epoch 071/100 | Loss 0.0017 | Win/lose count 8.5/3.0 (5.5)\n",
            "Epoch 072/100 | Loss 0.0026 | Win/lose count 10.5/6.0 (4.5)\n",
            "Epoch 073/100 | Loss 0.0034 | Win/lose count 11.0/2.0 (9.0)\n",
            "Epoch 074/100 | Loss 0.0013 | Win/lose count 8.0/1.0 (7.0)\n",
            "Epoch 075/100 | Loss 0.0150 | Win/lose count 3.5/3.0 (0.5)\n",
            "Epoch 076/100 | Loss 0.0015 | Win/lose count 10.0/3.0 (7.0)\n",
            "Epoch 077/100 | Loss 0.0016 | Win/lose count 8.5/2.0 (6.5)\n",
            "Epoch 078/100 | Loss 0.0009 | Win/lose count 4.0/3.0 (1.0)\n",
            "Epoch 079/100 | Loss 0.0013 | Win/lose count 10.5/2.0 (8.5)\n",
            "Epoch 080/100 | Loss 0.0084 | Win/lose count 6.0/1.0 (5.0)\n",
            "Epoch 081/100 | Loss 0.0018 | Win/lose count 9.5/3.0 (6.5)\n",
            "Epoch 082/100 | Loss 0.0020 | Win/lose count 4.5/1.0 (3.5)\n",
            "Epoch 083/100 | Loss 0.0012 | Win/lose count 7.5/3.0 (4.5)\n",
            "Epoch 084/100 | Loss 0.0011 | Win/lose count 7.5/4.0 (3.5)\n",
            "Epoch 085/100 | Loss 0.0016 | Win/lose count 10.0/3.0 (7.0)\n",
            "Epoch 086/100 | Loss 0.0013 | Win/lose count 4.5/0 (4.5)\n",
            "Epoch 087/100 | Loss 0.0238 | Win/lose count 15.0/4.0 (11.0)\n",
            "Epoch 088/100 | Loss 0.0109 | Win/lose count 4.5/3.0 (1.5)\n",
            "Epoch 089/100 | Loss 0.0011 | Win/lose count 11.5/3.0 (8.5)\n",
            "Epoch 090/100 | Loss 0.0013 | Win/lose count 13.5/4.0 (9.5)\n",
            "Epoch 091/100 | Loss 0.0021 | Win/lose count 10.0/2.0 (8.0)\n",
            "Epoch 092/100 | Loss 0.0019 | Win/lose count 18.5/3.0 (15.5)\n",
            "Epoch 093/100 | Loss 0.0022 | Win/lose count 15.5/2.0 (13.5)\n",
            "Epoch 094/100 | Loss 0.0033 | Win/lose count 8.0/3.0 (5.0)\n",
            "Epoch 095/100 | Loss 0.0019 | Win/lose count 12.0/1.0 (11.0)\n",
            "Epoch 096/100 | Loss 0.0017 | Win/lose count 12.0/2.0 (10.0)\n",
            "Epoch 097/100 | Loss 0.0109 | Win/lose count 12.0/5.0 (7.0)\n",
            "Epoch 098/100 | Loss 0.0029 | Win/lose count 10.0/2.0 (8.0)\n",
            "Epoch 099/100 | Loss 0.0015 | Win/lose count 4.5/3.0 (1.5)\n"
          ],
          "name": "stdout"
        }
      ]
    },
    {
      "metadata": {
        "id": "FBe_vmVmEuFU",
        "colab_type": "text"
      },
      "cell_type": "markdown",
      "source": [
        "***\n",
        "***\n",
        "__Question 8__ Implement the DQN training algorithm using a CNN (for example, 2 convolutional layers and one final fully connected layer)."
      ]
    },
    {
      "metadata": {
        "scrolled": false,
        "id": "iqogFjSDEuFc",
        "colab_type": "code",
        "colab": {}
      },
      "cell_type": "code",
      "source": [
        "class DQN_CNN(DQN):\n",
        "    def __init__(self, *args,lr=0.1,**kwargs):\n",
        "        super(DQN_CNN, self).__init__(*args,**kwargs)\n",
        "        \n",
        "        input_layer = Input(shape=(5,5,self.n_state))\n",
        "        conv1 = Conv2D(128, 3, activation=\"relu\")(input_layer)\n",
        "        conv2 = Conv2D(128, 3, activation=\"relu\")(conv1)\n",
        "        flatten = Flatten()(conv2)\n",
        "        output = Dense(4, activation=\"linear\")(flatten)\n",
        "        \n",
        "        model = Model(input_layer, output)\n",
        "        \n",
        "        model.compile(sgd(lr=lr, decay=1e-4, momentum=0.0), \"mse\")\n",
        "        #model.compile(\"adam\", \"mse\")\n",
        "        model.summary()\n",
        "        self.model = model"
      ],
      "execution_count": 0,
      "outputs": []
    },
    {
      "metadata": {
        "id": "axK9QEAHxxyB",
        "colab_type": "code",
        "colab": {
          "base_uri": "https://localhost:8080/",
          "height": 2006
        },
        "outputId": "6be8960e-0b61-45ae-bcfc-d6badf2eab0e"
      },
      "cell_type": "code",
      "source": [
        "epochs_train = 100\n",
        "\n",
        "env = Environment(grid_size=size, max_time=T, temperature=0.3)\n",
        "agent = DQN_CNN(size, lr=.1, epsilon = 0.1, memory_size=2000, batch_size = 64)\n",
        "train(agent,env,epochs_train,prefix='cnn_train')"
      ],
      "execution_count": 21,
      "outputs": [
        {
          "output_type": "stream",
          "text": [
            "_________________________________________________________________\n",
            "Layer (type)                 Output Shape              Param #   \n",
            "=================================================================\n",
            "input_4 (InputLayer)         (None, 5, 5, 2)           0         \n",
            "_________________________________________________________________\n",
            "conv2d_1 (Conv2D)            (None, 3, 3, 128)         2432      \n",
            "_________________________________________________________________\n",
            "conv2d_2 (Conv2D)            (None, 1, 1, 256)         295168    \n",
            "_________________________________________________________________\n",
            "flatten_4 (Flatten)          (None, 256)               0         \n",
            "_________________________________________________________________\n",
            "dense_10 (Dense)             (None, 4)                 1028      \n",
            "=================================================================\n",
            "Total params: 298,628\n",
            "Trainable params: 298,628\n",
            "Non-trainable params: 0\n",
            "_________________________________________________________________\n",
            "Epoch 000/100 | Loss 0.0278 | Win/lose count 7.5/10.0 (-2.5)\n",
            "Epoch 001/100 | Loss 0.0078 | Win/lose count 5.5/1.0 (4.5)\n",
            "Epoch 002/100 | Loss 0.0071 | Win/lose count 8.5/2.0 (6.5)\n",
            "Epoch 003/100 | Loss 0.0045 | Win/lose count 1.5/1.0 (0.5)\n",
            "Epoch 004/100 | Loss 0.0023 | Win/lose count 13.5/4.0 (9.5)\n",
            "Epoch 005/100 | Loss 0.0088 | Win/lose count 5.0/3.0 (2.0)\n",
            "Epoch 006/100 | Loss 0.0014 | Win/lose count 4.0/1.0 (3.0)\n",
            "Epoch 007/100 | Loss 0.0050 | Win/lose count 10.5/3.0 (7.5)\n",
            "Epoch 008/100 | Loss 0.0277 | Win/lose count 11.0/4.0 (7.0)\n",
            "Epoch 009/100 | Loss 0.0181 | Win/lose count 15.5/5.0 (10.5)\n",
            "Epoch 010/100 | Loss 0.0527 | Win/lose count 6.5/3.0 (3.5)\n",
            "Epoch 011/100 | Loss 0.0014 | Win/lose count 10.0/0 (10.0)\n",
            "Epoch 012/100 | Loss 0.0034 | Win/lose count 9.0/0 (9.0)\n",
            "Epoch 013/100 | Loss 0.0030 | Win/lose count 13.5/7.0 (6.5)\n",
            "Epoch 014/100 | Loss 0.0014 | Win/lose count 11.5/3.0 (8.5)\n",
            "Epoch 015/100 | Loss 0.0022 | Win/lose count 9.0/5.0 (4.0)\n",
            "Epoch 016/100 | Loss 0.0017 | Win/lose count 14.5/5.0 (9.5)\n",
            "Epoch 017/100 | Loss 0.0024 | Win/lose count 14.0/6.0 (8.0)\n",
            "Epoch 018/100 | Loss 0.0011 | Win/lose count 9.5/2.0 (7.5)\n",
            "Epoch 019/100 | Loss 0.0014 | Win/lose count 7.0/5.0 (2.0)\n",
            "Epoch 020/100 | Loss 0.0010 | Win/lose count 8.5/3.0 (5.5)\n",
            "Epoch 021/100 | Loss 0.0025 | Win/lose count 14.5/6.0 (8.5)\n",
            "Epoch 022/100 | Loss 0.0024 | Win/lose count 13.0/1.0 (12.0)\n",
            "Epoch 023/100 | Loss 0.0010 | Win/lose count 21.0/6.0 (15.0)\n",
            "Epoch 024/100 | Loss 0.0010 | Win/lose count 8.5/2.0 (6.5)\n",
            "Epoch 025/100 | Loss 0.0320 | Win/lose count 2.5/0 (2.5)\n",
            "Epoch 026/100 | Loss 0.0018 | Win/lose count 8.0/2.0 (6.0)\n",
            "Epoch 027/100 | Loss 0.0011 | Win/lose count 16.0/4.0 (12.0)\n",
            "Epoch 028/100 | Loss 0.0008 | Win/lose count 9.0/4.0 (5.0)\n",
            "Epoch 029/100 | Loss 0.0318 | Win/lose count 23.5/3.0 (20.5)\n",
            "Epoch 030/100 | Loss 0.0010 | Win/lose count 10.5/2.0 (8.5)\n",
            "Epoch 031/100 | Loss 0.0114 | Win/lose count 9.0/2.0 (7.0)\n",
            "Epoch 032/100 | Loss 0.0032 | Win/lose count 13.5/7.0 (6.5)\n",
            "Epoch 033/100 | Loss 0.0172 | Win/lose count 7.5/2.0 (5.5)\n",
            "Epoch 034/100 | Loss 0.0013 | Win/lose count 9.0/4.0 (5.0)\n",
            "Epoch 035/100 | Loss 0.0211 | Win/lose count 7.0/1.0 (6.0)\n",
            "Epoch 036/100 | Loss 0.0262 | Win/lose count 16.0/5.0 (11.0)\n",
            "Epoch 037/100 | Loss 0.0008 | Win/lose count 5.5/0 (5.5)\n",
            "Epoch 038/100 | Loss 0.0217 | Win/lose count 10.0/3.0 (7.0)\n",
            "Epoch 039/100 | Loss 0.0180 | Win/lose count 11.0/1.0 (10.0)\n",
            "Epoch 040/100 | Loss 0.0017 | Win/lose count 12.5/2.0 (10.5)\n",
            "Epoch 041/100 | Loss 0.0194 | Win/lose count 10.0/2.0 (8.0)\n",
            "Epoch 042/100 | Loss 0.0319 | Win/lose count 15.0/2.0 (13.0)\n",
            "Epoch 043/100 | Loss 0.0072 | Win/lose count 8.0/4.0 (4.0)\n",
            "Epoch 044/100 | Loss 0.0036 | Win/lose count 13.5/1.0 (12.5)\n",
            "Epoch 045/100 | Loss 0.0011 | Win/lose count 7.5/2.0 (5.5)\n",
            "Epoch 046/100 | Loss 0.0010 | Win/lose count 12.0/2.0 (10.0)\n",
            "Epoch 047/100 | Loss 0.0009 | Win/lose count 2.0/1.0 (1.0)\n",
            "Epoch 048/100 | Loss 0.0016 | Win/lose count 6.5/1.0 (5.5)\n",
            "Epoch 049/100 | Loss 0.0153 | Win/lose count 4.5/4.0 (0.5)\n",
            "Epoch 050/100 | Loss 0.0021 | Win/lose count 6.0/5.0 (1.0)\n",
            "Epoch 051/100 | Loss 0.0020 | Win/lose count 6.5/4.0 (2.5)\n",
            "Epoch 052/100 | Loss 0.0014 | Win/lose count 5.5/3.0 (2.5)\n",
            "Epoch 053/100 | Loss 0.0018 | Win/lose count 10.5/2.0 (8.5)\n",
            "Epoch 054/100 | Loss 0.0218 | Win/lose count 13.5/1.0 (12.5)\n",
            "Epoch 055/100 | Loss 0.0063 | Win/lose count 9.0/3.0 (6.0)\n",
            "Epoch 056/100 | Loss 0.0006 | Win/lose count 13.0/3.0 (10.0)\n",
            "Epoch 057/100 | Loss 0.0011 | Win/lose count 7.5/1.0 (6.5)\n",
            "Epoch 058/100 | Loss 0.0056 | Win/lose count 12.0/1.0 (11.0)\n",
            "Epoch 059/100 | Loss 0.0064 | Win/lose count 12.0/1.0 (11.0)\n",
            "Epoch 060/100 | Loss 0.0010 | Win/lose count 13.5/2.0 (11.5)\n",
            "Epoch 061/100 | Loss 0.0011 | Win/lose count 5.0/3.0 (2.0)\n",
            "Epoch 062/100 | Loss 0.0033 | Win/lose count 7.5/5.0 (2.5)\n",
            "Epoch 063/100 | Loss 0.0015 | Win/lose count 14.0/2.0 (12.0)\n",
            "Epoch 064/100 | Loss 0.0020 | Win/lose count 13.5/1.0 (12.5)\n",
            "Epoch 065/100 | Loss 0.0021 | Win/lose count 11.0/4.0 (7.0)\n",
            "Epoch 066/100 | Loss 0.0305 | Win/lose count 8.0/1.0 (7.0)\n",
            "Epoch 067/100 | Loss 0.0012 | Win/lose count 7.5/4.0 (3.5)\n",
            "Epoch 068/100 | Loss 0.0557 | Win/lose count 8.0/1.0 (7.0)\n",
            "Epoch 069/100 | Loss 0.0018 | Win/lose count 8.5/3.0 (5.5)\n",
            "Epoch 070/100 | Loss 0.0034 | Win/lose count 7.0/3.0 (4.0)\n",
            "Epoch 071/100 | Loss 0.0024 | Win/lose count 7.0/1.0 (6.0)\n",
            "Epoch 072/100 | Loss 0.0193 | Win/lose count 7.5/2.0 (5.5)\n",
            "Epoch 073/100 | Loss 0.0346 | Win/lose count 5.5/4.0 (1.5)\n",
            "Epoch 074/100 | Loss 0.0025 | Win/lose count 9.5/4.0 (5.5)\n",
            "Epoch 075/100 | Loss 0.0176 | Win/lose count 6.0/3.0 (3.0)\n",
            "Epoch 076/100 | Loss 0.0012 | Win/lose count 8.0/2.0 (6.0)\n",
            "Epoch 077/100 | Loss 0.0008 | Win/lose count 12.0/4.0 (8.0)\n",
            "Epoch 078/100 | Loss 0.0115 | Win/lose count 15.5/3.0 (12.5)\n",
            "Epoch 079/100 | Loss 0.0015 | Win/lose count 9.0/3.0 (6.0)\n",
            "Epoch 080/100 | Loss 0.0011 | Win/lose count 13.0/2.0 (11.0)\n",
            "Epoch 081/100 | Loss 0.0323 | Win/lose count 10.5/4.0 (6.5)\n",
            "Epoch 082/100 | Loss 0.0017 | Win/lose count 4.0/1.0 (3.0)\n",
            "Epoch 083/100 | Loss 0.0027 | Win/lose count 7.5/4.0 (3.5)\n",
            "Epoch 084/100 | Loss 0.0136 | Win/lose count 8.5/2.0 (6.5)\n",
            "Epoch 085/100 | Loss 0.0011 | Win/lose count 13.0/4.0 (9.0)\n",
            "Epoch 086/100 | Loss 0.0019 | Win/lose count 11.0/2.0 (9.0)\n",
            "Epoch 087/100 | Loss 0.0020 | Win/lose count 10.5/5.0 (5.5)\n",
            "Epoch 088/100 | Loss 0.0050 | Win/lose count 15.0/4.0 (11.0)\n",
            "Epoch 089/100 | Loss 0.0120 | Win/lose count 12.0/5.0 (7.0)\n",
            "Epoch 090/100 | Loss 0.0013 | Win/lose count 10.0/1.0 (9.0)\n",
            "Epoch 091/100 | Loss 0.0035 | Win/lose count 7.5/4.0 (3.5)\n",
            "Epoch 092/100 | Loss 0.0011 | Win/lose count 15.5/1.0 (14.5)\n",
            "Epoch 093/100 | Loss 0.0294 | Win/lose count 4.0/2.0 (2.0)\n",
            "Epoch 094/100 | Loss 0.0013 | Win/lose count 11.5/1.0 (10.5)\n",
            "Epoch 095/100 | Loss 0.0009 | Win/lose count 8.0/1.0 (7.0)\n",
            "Epoch 096/100 | Loss 0.0015 | Win/lose count 8.0/2.0 (6.0)\n",
            "Epoch 097/100 | Loss 0.0048 | Win/lose count 4.0/2.0 (2.0)\n",
            "Epoch 098/100 | Loss 0.0014 | Win/lose count 12.0/3.0 (9.0)\n",
            "Epoch 099/100 | Loss 0.0009 | Win/lose count 7.5/7.0 (0.5)\n"
          ],
          "name": "stdout"
        }
      ]
    },
    {
      "metadata": {
        "id": "zmazYiFlEuGU",
        "colab_type": "text"
      },
      "cell_type": "markdown",
      "source": [
        "***\n",
        "***\n",
        "__Question 9__ Test both algorithms and compare their performances. Which issue(s) do you observe? Observe also different behaviors by changing the temperature."
      ]
    },
    {
      "metadata": {
        "scrolled": true,
        "id": "Smr8U8UiEuGX",
        "colab_type": "code",
        "outputId": "1a16038b-6aba-4434-f7ae-6aa88bcec154",
        "colab": {
          "base_uri": "https://localhost:8080/",
          "height": 1003
        }
      },
      "cell_type": "code",
      "source": [
        "env = Environment(grid_size=size, max_time=T,temperature=0.3)\n",
        "agent_cnn = DQN_CNN(size, lr=.1, epsilon = 0.1, memory_size=2000, batch_size = 64)\n",
        "agent_cnn.load(name_weights='cnn_trainmodel.h5',name_model='cnn_trainmodel.json')\n",
        "\n",
        "agent_fc = DQN_FC(size, lr=.1, epsilon = 0.1, memory_size=2000, batch_size = 64)\n",
        "agent_fc.load(name_weights='fc_trainmodel.h5',name_model='fc_trainmodel.json')\n",
        "print('Test of the CNN')\n",
        "test(agent_cnn,env,epochs_test,prefix='cnn_test')\n",
        "print('Test of the FC')\n",
        "test(agent_fc,env,epochs_test,prefix='fc_test')"
      ],
      "execution_count": 22,
      "outputs": [
        {
          "output_type": "stream",
          "text": [
            "_________________________________________________________________\n",
            "Layer (type)                 Output Shape              Param #   \n",
            "=================================================================\n",
            "input_5 (InputLayer)         (None, 5, 5, 2)           0         \n",
            "_________________________________________________________________\n",
            "conv2d_3 (Conv2D)            (None, 3, 3, 128)         2432      \n",
            "_________________________________________________________________\n",
            "conv2d_4 (Conv2D)            (None, 1, 1, 256)         295168    \n",
            "_________________________________________________________________\n",
            "flatten_5 (Flatten)          (None, 256)               0         \n",
            "_________________________________________________________________\n",
            "dense_11 (Dense)             (None, 4)                 1028      \n",
            "=================================================================\n",
            "Total params: 298,628\n",
            "Trainable params: 298,628\n",
            "Non-trainable params: 0\n",
            "_________________________________________________________________\n",
            "_________________________________________________________________\n",
            "Layer (type)                 Output Shape              Param #   \n",
            "=================================================================\n",
            "input_6 (InputLayer)         (None, 5, 5, 2)           0         \n",
            "_________________________________________________________________\n",
            "flatten_6 (Flatten)          (None, 50)                0         \n",
            "_________________________________________________________________\n",
            "dense_12 (Dense)             (None, 64)                3264      \n",
            "_________________________________________________________________\n",
            "dense_13 (Dense)             (None, 32)                2080      \n",
            "_________________________________________________________________\n",
            "dense_14 (Dense)             (None, 4)                 132       \n",
            "=================================================================\n",
            "Total params: 5,476\n",
            "Trainable params: 5,476\n",
            "Non-trainable params: 0\n",
            "_________________________________________________________________\n",
            "Test of the CNN\n",
            "Win/lose count 1.5/0. Average score (1.5)\n",
            "Win/lose count 0.0/0. Average score (0.75)\n",
            "Win/lose count 3.0/0. Average score (1.5)\n",
            "Win/lose count 1.5/0. Average score (1.5)\n",
            "Win/lose count 3.0/0. Average score (1.8)\n",
            "Win/lose count 3.5/0. Average score (2.0833333333333335)\n",
            "Win/lose count 1.5/0. Average score (2.0)\n",
            "Win/lose count 0.5/0. Average score (1.8125)\n",
            "Win/lose count 0.5/0. Average score (1.6666666666666667)\n",
            "Win/lose count 10.0/0. Average score (2.5)\n",
            "Final score: 2.5\n",
            "Test of the FC\n",
            "Win/lose count 3.0/0. Average score (3.0)\n",
            "Win/lose count 2.5/0. Average score (2.75)\n",
            "Win/lose count 0.0/0. Average score (1.8333333333333333)\n",
            "Win/lose count 2.5/0. Average score (2.0)\n",
            "Win/lose count 1.5/0. Average score (1.9)\n",
            "Win/lose count 3.5/0. Average score (2.1666666666666665)\n",
            "Win/lose count 2.5/0. Average score (2.2142857142857144)\n",
            "Win/lose count 2.0/0. Average score (2.1875)\n",
            "Win/lose count 1.5/0. Average score (2.111111111111111)\n",
            "Win/lose count 0.0/0. Average score (1.9)\n",
            "Final score: 1.9\n"
          ],
          "name": "stdout"
        }
      ]
    },
    {
      "metadata": {
        "scrolled": false,
        "id": "v8EJ27ucEuGt",
        "colab_type": "code",
        "outputId": "d95f31e8-fc8b-4afe-fb80-1920df9a7bac",
        "colab": {
          "base_uri": "https://localhost:8080/",
          "height": 293
        }
      },
      "cell_type": "code",
      "source": [
        "HTML(display_videos('cnn_test10.mp4'))"
      ],
      "execution_count": 23,
      "outputs": [
        {
          "output_type": "execute_result",
          "data": {
            "text/html": [
              "<video alt=\"test\" controls>\n",
              "                <source src=\"data:video/mp4;base64,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\" type=\"video/mp4\" />\n",
              "             </video>"
            ],
            "text/plain": [
              "<IPython.core.display.HTML object>"
            ]
          },
          "metadata": {
            "tags": []
          },
          "execution_count": 23
        }
      ]
    },
    {
      "metadata": {
        "scrolled": false,
        "id": "od3LUBddEuHM",
        "colab_type": "code",
        "outputId": "223291f6-c208-41de-94e8-df27182d8cba",
        "colab": {
          "base_uri": "https://localhost:8080/",
          "height": 293
        }
      },
      "cell_type": "code",
      "source": [
        "HTML(display_videos('fc_test10.mp4'))"
      ],
      "execution_count": 26,
      "outputs": [
        {
          "output_type": "execute_result",
          "data": {
            "text/html": [
              "<video alt=\"test\" controls>\n",
              "                <source src=\"data:video/mp4;base64,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\" type=\"video/mp4\" />\n",
              "             </video>"
            ],
            "text/plain": [
              "<IPython.core.display.HTML object>"
            ]
          },
          "metadata": {
            "tags": []
          },
          "execution_count": 26
        }
      ]
    },
    {
      "metadata": {
        "id": "MjkBkcp-EuLE",
        "colab_type": "text"
      },
      "cell_type": "markdown",
      "source": [
        "We can see one main issue : when the $5\\times 5$ area surrounding the rat is empty, the agent doesn't know what to do and get stuck in loops. Therefore a lot of areas remain unexplored and a lot of cheese is missed."
      ]
    },
    {
      "metadata": {
        "id": "Czls9JhAEuLJ",
        "colab_type": "text"
      },
      "cell_type": "markdown",
      "source": [
        "***\n",
        "\n",
        "The algorithm tends to not explore the map which can be an issue. We propose two ideas in order to encourage exploration:\n",
        "1. Incorporating a decreasing $\\epsilon$-greedy exploration. You can use the method ```set_epsilon```\n",
        "2. Append via the environment a new state that describes if a cell has been visited or not\n",
        "\n",
        "***\n",
        "__Question 10__ Design a new ```train_explore``` function and environment class ```EnvironmentExploring``` to tackle the issue of exploration.\n",
        "\n"
      ]
    },
    {
      "metadata": {
        "scrolled": false,
        "id": "ok6qZfsCEuLV",
        "colab_type": "code",
        "colab": {}
      },
      "cell_type": "code",
      "source": [
        "class EnvironmentExploring(object):   \n",
        "    def __init__(self, grid_size=10, max_time=500, temperature=0.1):\n",
        "        grid_size = grid_size+4\n",
        "        self.grid_size = grid_size\n",
        "        self.max_time = max_time\n",
        "        self.temperature = temperature\n",
        "\n",
        "        #board on which one plays\n",
        "        self.board = np.zeros((grid_size,grid_size))\n",
        "        self.position = np.zeros((grid_size,grid_size))\n",
        "\n",
        "        # coordinate of the rat\n",
        "        self.x = 0\n",
        "        self.y = 1\n",
        "\n",
        "        # self time\n",
        "        self.t = 0\n",
        "\n",
        "        self.scale=16\n",
        "\n",
        "        self.to_draw = np.zeros((max_time+2, grid_size*self.scale, grid_size*self.scale, 3))\n",
        "\n",
        "\n",
        "    def draw(self,e):\n",
        "        skvideo.io.vwrite(str(e) + '.mp4', self.to_draw)\n",
        "\n",
        "    def get_frame(self,t):\n",
        "        b = np.zeros((self.grid_size,self.grid_size,3))+128\n",
        "        b[self.board>0,0] = 256\n",
        "        b[self.board < 0, 2] = 256\n",
        "        b[self.x,self.y,:]=256\n",
        "        b[-2:,:,:]=0\n",
        "        b[:,-2:,:]=0\n",
        "        b[:2,:,:]=0\n",
        "        b[:,:2,:]=0\n",
        "        \n",
        "        b =  cv2.resize(b, None, fx=self.scale, fy=self.scale, interpolation=cv2.INTER_NEAREST)\n",
        "\n",
        "        self.to_draw[t,:,:,:]=b\n",
        "\n",
        "\n",
        "    def act(self, action, train = False):\n",
        "        \"\"\"This function returns the new state, reward and decides if the\n",
        "        game ends.\"\"\"\n",
        "\n",
        "        self.get_frame(int(self.t))\n",
        "\n",
        "        self.position = np.zeros((self.grid_size, self.grid_size))\n",
        "\n",
        "        self.position[0:2,:]= -1\n",
        "        self.position[:,0:2] = -1\n",
        "        self.position[-2:, :] = -1\n",
        "        self.position[-2:, :] = -1\n",
        "\n",
        "        self.position[self.x, self.y] = 1\n",
        "        if action == 0:\n",
        "            if self.x == self.grid_size-3:\n",
        "                self.x = self.x-1\n",
        "            else:\n",
        "                self.x = self.x + 1\n",
        "        elif action == 1:\n",
        "            if self.x == 2:\n",
        "                self.x = self.x+1\n",
        "            else:\n",
        "                self.x = self.x-1\n",
        "        elif action == 2:\n",
        "            if self.y == self.grid_size - 3:\n",
        "                self.y = self.y - 1\n",
        "            else:\n",
        "                self.y = self.y + 1\n",
        "        elif action == 3:\n",
        "            if self.y == 2:\n",
        "                self.y = self.y + 1\n",
        "            else:\n",
        "                self.y = self.y - 1\n",
        "        else:\n",
        "            RuntimeError('Error: action not recognized')\n",
        "\n",
        "        self.t = self.t + 1\n",
        "        reward = 0\n",
        "        if train:\n",
        "            reward = -self.malus_position[self.x, self.y]\n",
        "        self.malus_position[self.x, self.y] = 0.1 #we could write +=0.1 instead\n",
        "\n",
        "        reward = reward + self.board[self.x, self.y]\n",
        "        \n",
        "        self.board[self.x, self.y] = 0\n",
        "        game_over = self.t > self.max_time\n",
        "\n",
        "        state = np.concatenate((self.malus_position.reshape(self.grid_size, self.grid_size,1),\n",
        "                               self.board.reshape(self.grid_size, self.grid_size,1),\n",
        "                        self.position.reshape(self.grid_size, self.grid_size,1)),axis=2)\n",
        "        state = state[self.x-2:self.x+3,self.y-2:self.y+3,:]\n",
        "\n",
        "        return state, reward, game_over\n",
        "\n",
        "    def reset(self):\n",
        "        \"\"\"This function resets the game and returns the initial state\"\"\"\n",
        "\n",
        "        self.x = np.random.randint(3, self.grid_size-3, size=1)[0]\n",
        "        self.y = np.random.randint(3, self.grid_size-3, size=1)[0]\n",
        "\n",
        "\n",
        "        bonus = 0.5*np.random.binomial(1,self.temperature,size=self.grid_size**2)\n",
        "        bonus = bonus.reshape(self.grid_size,self.grid_size)\n",
        "\n",
        "        malus = -1.0*np.random.binomial(1,self.temperature,size=self.grid_size**2)\n",
        "        malus = malus.reshape(self.grid_size, self.grid_size)\n",
        "\n",
        "        self.to_draw = np.zeros((self.max_time+2, self.grid_size*self.scale, self.grid_size*self.scale, 3))\n",
        "\n",
        "\n",
        "        malus[bonus>0]=0\n",
        "\n",
        "        self.board = bonus + malus\n",
        "\n",
        "        self.position = np.zeros((self.grid_size, self.grid_size))\n",
        "        self.position[0:2,:]= -1\n",
        "        self.position[:,0:2] = -1\n",
        "        self.position[-2:, :] = -1\n",
        "        self.position[-2:, :] = -1\n",
        "        self.board[self.x,self.y] = 0\n",
        "        self.t = 0\n",
        "        \n",
        "        self.malus_position = np.zeros((self.grid_size, self.grid_size))\n",
        "\n",
        "        state = np.concatenate((self.malus_position.reshape(self.grid_size, self.grid_size,1),\n",
        "                               self.board.reshape(self.grid_size, self.grid_size,1),\n",
        "                        self.position.reshape(self.grid_size, self.grid_size,1)),axis=2)\n",
        "\n",
        "        state = state[self.x - 2:self.x + 3, self.y - 2:self.y + 3, :]\n",
        "        return state"
      ],
      "execution_count": 0,
      "outputs": []
    },
    {
      "metadata": {
        "scrolled": false,
        "id": "QRaEhSkoEuN6",
        "colab_type": "code",
        "colab": {}
      },
      "cell_type": "code",
      "source": [
        "def train_explore(agent,env,epoch,prefix=''):\n",
        "    # Number of won games\n",
        "    score = 0\n",
        "    loss = 0\n",
        "\n",
        "    for e in range(epoch):\n",
        "        # At each epoch, we restart to a fresh game and get the initial state\n",
        "        state = env.reset()\n",
        "        # This assumes that the games will terminate\n",
        "        game_over = False\n",
        "\n",
        "        win = 0\n",
        "        lose = 0\n",
        "\n",
        "        while not game_over:\n",
        "            # The agent performs an action\n",
        "            action = agent.act(state)\n",
        "\n",
        "            # Apply an action to the environment, get the next state, the reward\n",
        "            # and if the games end\n",
        "            prev_state = state\n",
        "            state, reward, game_over = env.act(action, train=True)\n",
        "\n",
        "            # Update the counters\n",
        "            if reward > 0:\n",
        "                win = win + reward\n",
        "            if reward < 0:\n",
        "                lose = lose -reward\n",
        "\n",
        "            # Apply the reinforcement strategy\n",
        "            loss = agent.reinforce(prev_state, state,  action, reward, game_over)\n",
        "\n",
        "        # Save as a mp4\n",
        "        if e % 10 == 0:\n",
        "            env.draw(prefix+str(e))\n",
        "\n",
        "        # Update stats\n",
        "        score += win-lose\n",
        "\n",
        "        print(\"Epoch {:03d}/{:03d} | Loss {:.4f} | Win/lose count {:.1f}/{:.1f} ({:.1f})\"\n",
        "              .format(e, epoch, loss, win, lose, win-lose))\n",
        "        agent.save(name_weights=prefix+'model.h5',name_model=prefix+'model.json')"
      ],
      "execution_count": 0,
      "outputs": []
    },
    {
      "metadata": {
        "scrolled": true,
        "id": "5PxuGe4xEuOb",
        "colab_type": "code",
        "outputId": "284304b0-de4d-4fc4-d307-114c418beec5",
        "colab": {
          "base_uri": "https://localhost:8080/",
          "height": 2006
        }
      },
      "cell_type": "code",
      "source": [
        "# Training\n",
        "epochs_train = 100\n",
        "env = EnvironmentExploring(grid_size=size, max_time=T, temperature=0.3)\n",
        "agent = DQN_CNN(size, lr=.1, epsilon = 0.1, memory_size=2000, batch_size = 32,n_state=3)\n",
        "train_explore(agent, env, epochs_train, prefix='cnn_train_explore')"
      ],
      "execution_count": 20,
      "outputs": [
        {
          "output_type": "stream",
          "text": [
            "_________________________________________________________________\n",
            "Layer (type)                 Output Shape              Param #   \n",
            "=================================================================\n",
            "input_2 (InputLayer)         (None, 5, 5, 3)           0         \n",
            "_________________________________________________________________\n",
            "conv2d_3 (Conv2D)            (None, 3, 3, 128)         3584      \n",
            "_________________________________________________________________\n",
            "conv2d_4 (Conv2D)            (None, 1, 1, 256)         295168    \n",
            "_________________________________________________________________\n",
            "flatten_2 (Flatten)          (None, 256)               0         \n",
            "_________________________________________________________________\n",
            "dense_2 (Dense)              (None, 4)                 1028      \n",
            "=================================================================\n",
            "Total params: 299,780\n",
            "Trainable params: 299,780\n",
            "Non-trainable params: 0\n",
            "_________________________________________________________________\n",
            "Epoch 000/100 | Loss 0.0036 | Win/lose count 7.5/24.5 (-17.0)\n",
            "Epoch 001/100 | Loss 0.0047 | Win/lose count 4.0/21.4 (-17.4)\n",
            "Epoch 002/100 | Loss 0.0075 | Win/lose count 4.0/22.2 (-18.2)\n",
            "Epoch 003/100 | Loss 0.0074 | Win/lose count 12.0/17.4 (-5.4)\n",
            "Epoch 004/100 | Loss 0.0058 | Win/lose count 10.0/18.4 (-8.4)\n",
            "Epoch 005/100 | Loss 0.0045 | Win/lose count 15.0/13.8 (1.2)\n",
            "Epoch 006/100 | Loss 0.0078 | Win/lose count 17.0/14.0 (3.0)\n",
            "Epoch 007/100 | Loss 0.0043 | Win/lose count 8.5/15.3 (-6.8)\n",
            "Epoch 008/100 | Loss 0.0260 | Win/lose count 9.0/17.0 (-8.0)\n",
            "Epoch 009/100 | Loss 0.0056 | Win/lose count 19.0/13.7 (5.3)\n",
            "Epoch 010/100 | Loss 0.0046 | Win/lose count 18.0/13.4 (4.6)\n",
            "Epoch 011/100 | Loss 0.0039 | Win/lose count 12.5/17.6 (-5.1)\n",
            "Epoch 012/100 | Loss 0.0097 | Win/lose count 10.0/17.4 (-7.4)\n",
            "Epoch 013/100 | Loss 0.0048 | Win/lose count 21.5/13.5 (8.0)\n",
            "Epoch 014/100 | Loss 0.0091 | Win/lose count 13.0/15.4 (-2.4)\n",
            "Epoch 015/100 | Loss 0.0740 | Win/lose count 10.5/16.4 (-5.9)\n",
            "Epoch 016/100 | Loss 0.0062 | Win/lose count 14.5/14.1 (0.4)\n",
            "Epoch 017/100 | Loss 0.0080 | Win/lose count 8.0/21.0 (-13.0)\n",
            "Epoch 018/100 | Loss 0.0369 | Win/lose count 6.5/19.5 (-13.0)\n",
            "Epoch 019/100 | Loss 0.0063 | Win/lose count 17.0/16.1 (0.9)\n",
            "Epoch 020/100 | Loss 0.0096 | Win/lose count 17.5/14.0 (3.5)\n",
            "Epoch 021/100 | Loss 0.0118 | Win/lose count 15.5/14.7 (0.8)\n",
            "Epoch 022/100 | Loss 0.0470 | Win/lose count 15.0/14.4 (0.6)\n",
            "Epoch 023/100 | Loss 0.0394 | Win/lose count 21.0/11.9 (9.1)\n",
            "Epoch 024/100 | Loss 0.0094 | Win/lose count 29.0/11.4 (17.6)\n",
            "Epoch 025/100 | Loss 0.0510 | Win/lose count 21.0/12.9 (8.1)\n",
            "Epoch 026/100 | Loss 0.0061 | Win/lose count 13.5/18.9 (-5.4)\n",
            "Epoch 027/100 | Loss 0.0077 | Win/lose count 24.5/11.7 (12.8)\n",
            "Epoch 028/100 | Loss 0.0268 | Win/lose count 20.5/12.3 (8.2)\n",
            "Epoch 029/100 | Loss 0.0077 | Win/lose count 17.5/14.7 (2.8)\n",
            "Epoch 030/100 | Loss 0.0125 | Win/lose count 23.0/17.3 (5.7)\n",
            "Epoch 031/100 | Loss 0.0091 | Win/lose count 17.5/14.1 (3.4)\n",
            "Epoch 032/100 | Loss 0.0115 | Win/lose count 16.5/15.3 (1.2)\n",
            "Epoch 033/100 | Loss 0.0121 | Win/lose count 21.5/12.7 (8.8)\n",
            "Epoch 034/100 | Loss 0.0084 | Win/lose count 17.5/16.1 (1.4)\n",
            "Epoch 035/100 | Loss 0.0104 | Win/lose count 13.5/14.0 (-0.5)\n",
            "Epoch 036/100 | Loss 0.0146 | Win/lose count 21.5/13.7 (7.8)\n",
            "Epoch 037/100 | Loss 0.0106 | Win/lose count 16.5/14.1 (2.4)\n",
            "Epoch 038/100 | Loss 0.0085 | Win/lose count 23.5/13.9 (9.6)\n",
            "Epoch 039/100 | Loss 0.0097 | Win/lose count 17.5/16.4 (1.1)\n",
            "Epoch 040/100 | Loss 0.0471 | Win/lose count 23.5/18.2 (5.3)\n",
            "Epoch 041/100 | Loss 0.0098 | Win/lose count 20.0/14.6 (5.4)\n",
            "Epoch 042/100 | Loss 0.0047 | Win/lose count 22.0/14.6 (7.4)\n",
            "Epoch 043/100 | Loss 0.0102 | Win/lose count 20.0/15.5 (4.5)\n",
            "Epoch 044/100 | Loss 0.0370 | Win/lose count 18.5/18.4 (0.1)\n",
            "Epoch 045/100 | Loss 0.0222 | Win/lose count 15.0/13.5 (1.5)\n",
            "Epoch 046/100 | Loss 0.0152 | Win/lose count 17.5/16.6 (0.9)\n",
            "Epoch 047/100 | Loss 0.0169 | Win/lose count 18.5/16.7 (1.8)\n",
            "Epoch 048/100 | Loss 0.0128 | Win/lose count 15.0/13.3 (1.7)\n",
            "Epoch 049/100 | Loss 0.0255 | Win/lose count 17.0/13.8 (3.2)\n",
            "Epoch 050/100 | Loss 0.0243 | Win/lose count 19.0/18.6 (0.4)\n",
            "Epoch 051/100 | Loss 0.0105 | Win/lose count 17.5/15.7 (1.8)\n",
            "Epoch 052/100 | Loss 0.0084 | Win/lose count 19.0/14.1 (4.9)\n",
            "Epoch 053/100 | Loss 0.0064 | Win/lose count 22.0/13.7 (8.3)\n",
            "Epoch 054/100 | Loss 0.0237 | Win/lose count 20.0/13.9 (6.1)\n",
            "Epoch 055/100 | Loss 0.0056 | Win/lose count 24.5/13.8 (10.7)\n",
            "Epoch 056/100 | Loss 0.0118 | Win/lose count 20.5/13.7 (6.8)\n",
            "Epoch 057/100 | Loss 0.0088 | Win/lose count 22.0/10.8 (11.2)\n",
            "Epoch 058/100 | Loss 0.0093 | Win/lose count 25.0/12.0 (13.0)\n",
            "Epoch 059/100 | Loss 0.0103 | Win/lose count 21.0/12.9 (8.1)\n",
            "Epoch 060/100 | Loss 0.0062 | Win/lose count 18.0/16.1 (1.9)\n",
            "Epoch 061/100 | Loss 0.0086 | Win/lose count 23.0/13.5 (9.5)\n",
            "Epoch 062/100 | Loss 0.0063 | Win/lose count 17.0/16.1 (0.9)\n",
            "Epoch 063/100 | Loss 0.0083 | Win/lose count 21.5/13.4 (8.1)\n",
            "Epoch 064/100 | Loss 0.0215 | Win/lose count 26.5/12.7 (13.8)\n",
            "Epoch 065/100 | Loss 0.0181 | Win/lose count 20.0/14.6 (5.4)\n",
            "Epoch 066/100 | Loss 0.0180 | Win/lose count 16.0/17.6 (-1.6)\n",
            "Epoch 067/100 | Loss 0.0170 | Win/lose count 23.0/11.1 (11.9)\n",
            "Epoch 068/100 | Loss 0.0150 | Win/lose count 14.5/19.7 (-5.2)\n",
            "Epoch 069/100 | Loss 0.0479 | Win/lose count 19.5/17.8 (1.7)\n",
            "Epoch 070/100 | Loss 0.0277 | Win/lose count 22.5/13.9 (8.6)\n",
            "Epoch 071/100 | Loss 0.0106 | Win/lose count 12.0/14.7 (-2.7)\n",
            "Epoch 072/100 | Loss 0.0130 | Win/lose count 24.5/11.1 (13.4)\n",
            "Epoch 073/100 | Loss 0.0066 | Win/lose count 15.5/13.1 (2.4)\n",
            "Epoch 074/100 | Loss 0.0352 | Win/lose count 24.5/11.9 (12.6)\n",
            "Epoch 075/100 | Loss 0.0130 | Win/lose count 23.0/14.5 (8.5)\n",
            "Epoch 076/100 | Loss 0.0154 | Win/lose count 23.0/15.4 (7.6)\n",
            "Epoch 077/100 | Loss 0.0122 | Win/lose count 23.5/11.4 (12.1)\n",
            "Epoch 078/100 | Loss 0.0050 | Win/lose count 23.5/15.5 (8.0)\n",
            "Epoch 079/100 | Loss 0.0243 | Win/lose count 22.5/14.8 (7.7)\n",
            "Epoch 080/100 | Loss 0.0068 | Win/lose count 28.5/12.5 (16.0)\n",
            "Epoch 081/100 | Loss 0.0103 | Win/lose count 19.5/13.1 (6.4)\n",
            "Epoch 082/100 | Loss 0.0096 | Win/lose count 14.5/18.2 (-3.7)\n",
            "Epoch 083/100 | Loss 0.0087 | Win/lose count 25.0/15.3 (9.7)\n",
            "Epoch 084/100 | Loss 0.0315 | Win/lose count 26.0/12.8 (13.2)\n",
            "Epoch 085/100 | Loss 0.0075 | Win/lose count 18.0/14.2 (3.8)\n",
            "Epoch 086/100 | Loss 0.0063 | Win/lose count 19.5/13.6 (5.9)\n",
            "Epoch 087/100 | Loss 0.0143 | Win/lose count 21.0/13.1 (7.9)\n",
            "Epoch 088/100 | Loss 0.0054 | Win/lose count 17.0/12.7 (4.3)\n",
            "Epoch 089/100 | Loss 0.0161 | Win/lose count 19.5/12.6 (6.9)\n",
            "Epoch 090/100 | Loss 0.0127 | Win/lose count 21.0/13.2 (7.8)\n",
            "Epoch 091/100 | Loss 0.0041 | Win/lose count 24.0/14.1 (9.9)\n",
            "Epoch 092/100 | Loss 0.0066 | Win/lose count 28.0/14.4 (13.6)\n",
            "Epoch 093/100 | Loss 0.0061 | Win/lose count 17.0/14.6 (2.4)\n",
            "Epoch 094/100 | Loss 0.0098 | Win/lose count 10.5/16.3 (-5.8)\n",
            "Epoch 095/100 | Loss 0.0100 | Win/lose count 9.5/15.4 (-5.9)\n",
            "Epoch 096/100 | Loss 0.0084 | Win/lose count 23.5/11.5 (12.0)\n",
            "Epoch 097/100 | Loss 0.0078 | Win/lose count 15.0/16.0 (-1.0)\n",
            "Epoch 098/100 | Loss 0.0107 | Win/lose count 12.5/14.7 (-2.2)\n",
            "Epoch 099/100 | Loss 0.0079 | Win/lose count 18.5/16.3 (2.2)\n"
          ],
          "name": "stdout"
        }
      ]
    },
    {
      "metadata": {
        "scrolled": false,
        "id": "2RnO6r9pEuPD",
        "colab_type": "code",
        "outputId": "330aaccf-e44c-4cff-b704-9f8e9b732696",
        "colab": {
          "base_uri": "https://localhost:8080/",
          "height": 204
        }
      },
      "cell_type": "code",
      "source": [
        "# Evaluation\n",
        "env = EnvironmentExploring(grid_size=size, max_time=T, temperature=0.3)\n",
        "test(agent,env,epochs_test,prefix='cnn_test_explore')"
      ],
      "execution_count": 22,
      "outputs": [
        {
          "output_type": "stream",
          "text": [
            "Win/lose count 6.5/0. Average score (6.5)\n",
            "Win/lose count 9.0/1.0. Average score (7.25)\n",
            "Win/lose count 17.0/0. Average score (10.5)\n",
            "Win/lose count 20.0/1.0. Average score (12.625)\n",
            "Win/lose count 13.0/0. Average score (12.7)\n",
            "Win/lose count 4.5/0. Average score (11.333333333333334)\n",
            "Win/lose count 15.5/0. Average score (11.928571428571429)\n",
            "Win/lose count 19.0/5.0. Average score (12.1875)\n",
            "Win/lose count 5.0/0. Average score (11.38888888888889)\n",
            "Win/lose count 9.0/1.0. Average score (11.05)\n",
            "Final score: 11.05\n"
          ],
          "name": "stdout"
        }
      ]
    },
    {
      "metadata": {
        "scrolled": false,
        "id": "bl1j4PszEuPg",
        "colab_type": "code",
        "outputId": "f05fc575-e241-45a5-fab6-265a5639a7dc",
        "colab": {
          "base_uri": "https://localhost:8080/",
          "height": 293
        }
      },
      "cell_type": "code",
      "source": [
        "HTML(display_videos('cnn_test_explore3.mp4'))"
      ],
      "execution_count": 25,
      "outputs": [
        {
          "output_type": "execute_result",
          "data": {
            "text/html": [
              "<video alt=\"test\" controls>\n",
              "                <source src=\"data:video/mp4;base64,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\" type=\"video/mp4\" />\n",
              "             </video>"
            ],
            "text/plain": [
              "<IPython.core.display.HTML object>"
            ]
          },
          "metadata": {
            "tags": []
          },
          "execution_count": 25
        }
      ]
    },
    {
      "metadata": {
        "id": "yxjV_kqQEuQU",
        "colab_type": "text"
      },
      "cell_type": "markdown",
      "source": [
        "***\n",
        "***\n",
        "__BONUS question__ Use the expert DQN from the previous question to generate some winning games. Train a model that mimicks its behavior. Compare the performances."
      ]
    },
    {
      "metadata": {
        "id": "5TOrkVLLEuQi",
        "colab_type": "text"
      },
      "cell_type": "markdown",
      "source": [
        ""
      ]
    },
    {
      "metadata": {
        "id": "wSeNYfRhEuQk",
        "colab_type": "text"
      },
      "cell_type": "markdown",
      "source": [
        "***"
      ]
    }
  ]
}